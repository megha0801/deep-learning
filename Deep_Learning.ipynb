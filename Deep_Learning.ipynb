{
  "nbformat": 4,
  "nbformat_minor": 0,
  "metadata": {
    "colab": {
      "provenance": []
    },
    "kernelspec": {
      "name": "python3",
      "display_name": "Python 3"
    },
    "language_info": {
      "name": "python"
    }
  },
  "cells": [
    {
      "cell_type": "markdown",
      "source": [
        "1. What is TensorFlow 2.0, and how is it different from TensorFlow 1x?\n",
        "\n",
        "-> **TensorFlow 2.0** is a major upgrade to the TensorFlow machine learning framework, released by Google. It brings several improvements and changes over **TensorFlow 1.x** to make the platform more user-friendly, flexible, and production-ready.\n",
        "\n",
        "---\n",
        "\n",
        "###  Key Differences Between TensorFlow 2.0 and 1.x:\n",
        "\n",
        "| Feature                     | TensorFlow 1.x                             | TensorFlow 2.0                                                 |\n",
        "| --------------------------- | ------------------------------------------ | -------------------------------------------------------------- |\n",
        "| **Ease of Use**             | Complex syntax, many APIs                  | Simplified and consistent APIs                                 |\n",
        "| **Eager Execution**         | Disabled by default                        | Enabled by default                                             |\n",
        "| **Keras Integration**       | Separate from core TF                      | Integrated (`tf.keras` is the default high-level API)          |\n",
        "| **API Cleanup**             | Redundant and confusing APIs               | Removed deprecated APIs; streamlined                           |\n",
        "| **Autograph / tf.function** | Manual graph creation                      | Automatic graph execution using `@tf.function`                 |\n",
        "| **Training Loop**           | Complex with Sessions and placeholders     | Simpler with Pythonic loops and high-level APIs                |\n",
        "| **Compatibility**           | Incompatible with many modern ML workflows | Better support for modern tools (e.g., TF Lite, TF Hub, TF.js) |\n",
        "\n"
      ],
      "metadata": {
        "id": "PH_xnfF4VAPd"
      }
    },
    {
      "cell_type": "markdown",
      "source": [
        "2. How do you install TensorFlow 2.0?\n",
        "\n",
        "-> By default, Google Colab comes with TensorFlow 2.x pre-installed.\n",
        "To ensure you're using TensorFlow 2.0 specifically, follow these steps:\n",
        "\n",
        "Step 1: Install TensorFlow 2.0\n",
        "In a Colab code cell, run:\n",
        "\n"
      ],
      "metadata": {
        "id": "-P4JeFgVVeg0"
      }
    },
    {
      "cell_type": "code",
      "source": [
        "%tensorflow_version 2.x\n",
        "!pip install tensorflow==2.0.0\n"
      ],
      "metadata": {
        "colab": {
          "base_uri": "https://localhost:8080/"
        },
        "id": "RHrGUTRRV8pK",
        "outputId": "01a4662a-bf85-4547-d6cc-cf172302f4f1"
      },
      "execution_count": 1,
      "outputs": [
        {
          "output_type": "stream",
          "name": "stdout",
          "text": [
            "Colab only includes TensorFlow 2.x; %tensorflow_version has no effect.\n",
            "\u001b[31mERROR: Could not find a version that satisfies the requirement tensorflow==2.0.0 (from versions: 2.12.0rc0, 2.12.0rc1, 2.12.0, 2.12.1, 2.13.0rc0, 2.13.0rc1, 2.13.0rc2, 2.13.0, 2.13.1, 2.14.0rc0, 2.14.0rc1, 2.14.0, 2.14.1, 2.15.0rc0, 2.15.0rc1, 2.15.0, 2.15.0.post1, 2.15.1, 2.16.0rc0, 2.16.1, 2.16.2, 2.17.0rc0, 2.17.0rc1, 2.17.0, 2.17.1, 2.18.0rc0, 2.18.0rc1, 2.18.0rc2, 2.18.0, 2.18.1, 2.19.0rc0, 2.19.0)\u001b[0m\u001b[31m\n",
            "\u001b[0m\u001b[31mERROR: No matching distribution found for tensorflow==2.0.0\u001b[0m\u001b[31m\n",
            "\u001b[0m"
          ]
        }
      ]
    },
    {
      "cell_type": "markdown",
      "source": [
        "Step 2: Verify the Version"
      ],
      "metadata": {
        "id": "GNOEBgsQV_UK"
      }
    },
    {
      "cell_type": "code",
      "source": [
        "import tensorflow as tf\n",
        "print(\"TensorFlow version:\", tf.__version__)\n"
      ],
      "metadata": {
        "colab": {
          "base_uri": "https://localhost:8080/"
        },
        "id": "67cuopjlV-QK",
        "outputId": "7b96fa86-f55b-4f84-eafe-60378764f987"
      },
      "execution_count": 2,
      "outputs": [
        {
          "output_type": "stream",
          "name": "stdout",
          "text": [
            "TensorFlow version: 2.18.0\n"
          ]
        }
      ]
    },
    {
      "cell_type": "markdown",
      "source": [
        "3. What is the primary function of the tf.function in TensorFlow 2.0?\n",
        "\n",
        "-> The primary function of **tf.function** in TensorFlow 2.0 is to convert a Python function into a TensorFlow graph."
      ],
      "metadata": {
        "id": "ViSVLuNkWgk_"
      }
    },
    {
      "cell_type": "markdown",
      "source": [
        "8\u001a What is the purpose of the Model class in TensorFlow 2.0?\n",
        "\n",
        "-> In **TensorFlow 2.0**, the **`Model` class** (from `tf.keras.Model`) is a core component used to **build and train machine learning models**.\n",
        "\n",
        "---\n",
        "\n",
        "### **Purpose of the `Model` class:**\n",
        "\n",
        "1. **Define a neural network structure**\n",
        "\n",
        "   * You can create **custom models** by subclassing `tf.keras.Model` and implementing the `call()` method.\n",
        "\n",
        "2. **Encapsulate training logic**\n",
        "\n",
        "   * The `Model` class comes with built-in methods like `compile()`, `fit()`, `evaluate()`, and `predict()`.\n",
        "\n",
        "3. **Integrate layers** into a full model\n",
        "\n",
        "   * Combines multiple `tf.keras.layers` into a trainable and reusable model object.\n",
        "\n"
      ],
      "metadata": {
        "id": "vyc29hTEWyK6"
      }
    },
    {
      "cell_type": "markdown",
      "source": [
        "\"\u001a How do you create a neural network using TensorFlow 2.0?\n",
        "\n",
        "-> Creating a neural network in TensorFlow 2.0 is straightforward thanks to its built-in tf.keras API. Here's a step-by-step guide using the Sequential API, which is perfect for most beginner to intermediate use cases.\n",
        "\n",
        "1. Import Libraries\n"
      ],
      "metadata": {
        "id": "oFXMgBA8XDIc"
      }
    },
    {
      "cell_type": "code",
      "source": [
        "import tensorflow as tf\n",
        "from tensorflow.keras import layers, models\n"
      ],
      "metadata": {
        "id": "rcV-2oHdXVm6"
      },
      "execution_count": 4,
      "outputs": []
    },
    {
      "cell_type": "markdown",
      "source": [
        "2. Build the Neural Network"
      ],
      "metadata": {
        "id": "TuHbNlhZXZGB"
      }
    },
    {
      "cell_type": "code",
      "source": [
        "model = models.Sequential([\n",
        "    layers.Dense(64, activation='relu', input_shape=(10,)),  # Hidden layer 1\n",
        "    layers.Dense(32, activation='relu'),                     # Hidden layer 2\n",
        "    layers.Dense(1, activation='sigmoid')                    # Output layer (binary classification)\n",
        "])\n"
      ],
      "metadata": {
        "colab": {
          "base_uri": "https://localhost:8080/"
        },
        "id": "1feftJeZXXCx",
        "outputId": "892e13a3-b27e-4593-e6ed-18851aae5ff8"
      },
      "execution_count": 5,
      "outputs": [
        {
          "output_type": "stream",
          "name": "stderr",
          "text": [
            "/usr/local/lib/python3.11/dist-packages/keras/src/layers/core/dense.py:87: UserWarning: Do not pass an `input_shape`/`input_dim` argument to a layer. When using Sequential models, prefer using an `Input(shape)` object as the first layer in the model instead.\n",
            "  super().__init__(activity_regularizer=activity_regularizer, **kwargs)\n"
          ]
        }
      ]
    },
    {
      "cell_type": "markdown",
      "source": [
        "3. Compile the Model"
      ],
      "metadata": {
        "id": "Kv7WNx3NXhc6"
      }
    },
    {
      "cell_type": "code",
      "source": [
        "model.compile(optimizer='adam',\n",
        "              loss='binary_crossentropy',\n",
        "              metrics=['accuracy'])\n"
      ],
      "metadata": {
        "id": "9HY_TX6jXgK6"
      },
      "execution_count": 6,
      "outputs": []
    },
    {
      "cell_type": "markdown",
      "source": [
        "4. Train the Model"
      ],
      "metadata": {
        "id": "w4c1lqPzXrro"
      }
    },
    {
      "cell_type": "code",
      "metadata": {
        "id": "053e0626"
      },
      "source": [
        "import numpy as np\n",
        "\n",
        "# Generate dummy data for X_train and y_train\n",
        "X_train = np.random.rand(100, 10)  # 100 samples, 10 features\n",
        "y_train = np.random.randint(0, 2, 100) # 100 labels (0 or 1 for binary classification)"
      ],
      "execution_count": 8,
      "outputs": []
    },
    {
      "cell_type": "markdown",
      "source": [
        "5. Evaluate the Model"
      ],
      "metadata": {
        "id": "Vm5KFAWhX6DL"
      }
    },
    {
      "cell_type": "code",
      "metadata": {
        "id": "6e7ff5a0"
      },
      "source": [
        "import numpy as np\n",
        "\n",
        "# Generate dummy data for X_test and y_test\n",
        "X_test = np.random.rand(20, 10)  # 20 samples, 10 features\n",
        "y_test = np.random.randint(0, 2, 20)  # 20 labels (0 or 1 for binary classification)"
      ],
      "execution_count": 10,
      "outputs": []
    },
    {
      "cell_type": "markdown",
      "source": [
        "6. Make Predictions"
      ],
      "metadata": {
        "id": "j6ZO8v9iYJKU"
      }
    },
    {
      "cell_type": "code",
      "source": [
        "import numpy as np\n",
        "\n",
        "# Generate dummy data for X_new\n",
        "X_new = np.random.rand(5, 10)  # 5 new samples with 10 features"
      ],
      "metadata": {
        "id": "CIszDocGY8U5"
      },
      "execution_count": 13,
      "outputs": []
    },
    {
      "cell_type": "markdown",
      "source": [
        "6. What is the importance of Tensor Space in TensorFlow?\n",
        "\n",
        "-> While “Tensor Space” isn't an official term in TensorFlow, it generally refers to the multidimensional structure or mathematical space that tensors (core data units in TensorFlow) occupy and operate in."
      ],
      "metadata": {
        "id": "lRYDgawzYm2m"
      }
    },
    {
      "cell_type": "markdown",
      "source": [
        "\u0015\u001a How can TensorBoard be integrated with TensorFlow 2.0?\n",
        "\n",
        "-> TensorBoard is TensorFlow's built-in tool for visualizing metrics like loss, accuracy, graphs, histograms, images, etc. It’s extremely helpful for debugging and optimizing models."
      ],
      "metadata": {
        "id": "kQgPxPYEY-Ub"
      }
    },
    {
      "cell_type": "markdown",
      "source": [
        "8. What is the purpose of TensorFlow Playground?\n",
        "\n",
        "-> ensorFlow Playground is an interactive, web-based visualization tool designed to help users understand how neural networks work — especially how layers, neurons, and activation functions affect learning."
      ],
      "metadata": {
        "id": "m2kTXDb1ZKPi"
      }
    },
    {
      "cell_type": "markdown",
      "source": [
        "9. What is Netron, and how is it useful for deep learning models?\n",
        "\n",
        "-> ###  What is **Netron**, and Why Is It Useful in Deep Learning?\n",
        "\n",
        "**Netron** is a **visual model viewer** for deep learning, machine learning, and AI models. It allows users to **open, inspect, and understand** model architectures in a clear, interactive way.\n",
        "\n",
        " Web Version: [https://netron.app](https://netron.app)\n",
        "💻 Desktop App: Available for Windows, macOS, Linux\n",
        "\n",
        "\n",
        "###  **Why Netron is Useful in Deep Learning:**\n",
        "\n",
        "1. **Model Debugging**\n",
        "\n",
        "   * Spot architecture mistakes visually (wrong layer types, missing connections, etc.)\n",
        "\n",
        "2. **Understanding Pretrained Models**\n",
        "\n",
        "   * Quickly inspect models downloaded from TensorFlow Hub, PyTorch Hub, or ONNX Zoo\n",
        "\n",
        "3. **Model Documentation**\n",
        "\n",
        "   * Share visuals of architectures with team members or in research papers\n",
        "\n",
        "4. **Educational Tool**\n",
        "\n",
        "   * Helps students and beginners grasp model structures layer by layer\n",
        "\n",
        "5. **Framework-Agnostic**\n",
        "\n",
        "   * Works with TensorFlow, PyTorch, Keras, ONNX, Caffe, MXNet, and more\n",
        "\n"
      ],
      "metadata": {
        "id": "GdbjJg8wZXhM"
      }
    },
    {
      "cell_type": "markdown",
      "source": [
        "10. What is the difference between TensorFlow and PyTorch?\n",
        "\n",
        "-> ###  Difference Between **TensorFlow** and **PyTorch**\n",
        "\n",
        "Both **TensorFlow** and **PyTorch** are popular **deep learning frameworks**, but they differ in design philosophy, syntax, execution style, and ecosystem.\n",
        "\n",
        "---\n",
        "\n",
        "### **Quick Comparison Table**\n",
        "\n",
        "| Feature                 | **TensorFlow**                                  | **PyTorch**                                |\n",
        "| ----------------------- | ----------------------------------------------- | ------------------------------------------ |\n",
        "| **Developer**           | Google                                          | Facebook (Meta)                            |\n",
        "| **Primary Language**    | Python, C++, JavaScript (via TF.js)             | Python (main), also C++                    |\n",
        "| **Execution Mode**      | Graph mode by default (static), eager supported | Eager execution by default (dynamic)       |\n",
        "| **Ease of Use**         | More complex (was worse in TF 1.x)              | Very intuitive and Pythonic                |\n",
        "| **Model Building**      | Keras (`tf.keras`) and subclassing              | Python class-based using `nn.Module`       |\n",
        "| **Debugging**           | Harder (static graph)                           | Easier (dynamic graph)                     |\n",
        "| **Deployment**          | TensorFlow Serving, TF Lite, TF.js              | TorchServe, ONNX (limited mobile/web)      |\n",
        "| **Visualization**       | TensorBoard (powerful, native)                  | Basic support via TensorBoard or 3rd-party |\n",
        "| **Community & Support** | Very large, enterprise-focused                  | Popular in research and academia           |\n",
        "\n"
      ],
      "metadata": {
        "id": "K0SeuBvEZ04Z"
      }
    },
    {
      "cell_type": "markdown",
      "source": [
        " How do you install PyTorch?\n",
        "\n",
        " -> Installing PyTorch depends on your system (Windows, macOS, or Linux), your Python version, and whether you want to use GPU (CUDA) support.\n",
        "\n",
        " ###  How to Install **PyTorch**\n",
        "\n",
        "Installing PyTorch depends on your system (Windows, macOS, or Linux), your Python version, and whether you want to use **GPU (CUDA)** support.\n",
        "\n",
        "---\n",
        "\n",
        "###  **Step 1: Go to the Official Installation Guide**\n",
        "\n",
        "Visit: [https://pytorch.org/get-started/locally](https://pytorch.org/get-started/locally)\n",
        "\n",
        "This page lets you configure the install command based on:\n",
        "\n",
        "* OS (Windows, Linux, macOS)\n",
        "* Package manager (pip, conda)\n",
        "* Python version\n",
        "* CUDA version (if using GPU)\n",
        "\n",
        "---\n",
        "\n",
        "###  **Step 2: Basic pip Installation (CPU-only)**\n",
        "\n",
        "```bash\n",
        "pip install torch torchvision torchaudio\n",
        "```\n",
        "\n",
        "This will install the **latest version** of PyTorch **with CPU support**.\n",
        "\n",
        "---\n",
        "\n",
        "###  **Step 3: pip Installation (with GPU - CUDA)**\n",
        "\n",
        "If your system supports GPU (NVIDIA), you can install PyTorch with CUDA:\n",
        "\n",
        "```bash\n",
        "# Example for CUDA 11.8\n",
        "pip install torch torchvision torchaudio --index-url https://download.pytorch.org/whl/cu118\n",
        "```\n",
        "\n",
        "Replace `cu118` with the version matching your CUDA (e.g., `cu121` for CUDA 12.1).\n",
        "\n",
        "---\n",
        "\n",
        "###  **Step 4: Verify Installation**\n",
        "\n",
        "```python\n",
        "import torch\n",
        "\n",
        "print(torch.__version__)\n",
        "print(\"CUDA available:\", torch.cuda.is_available())\n",
        "```\n",
        "\n"
      ],
      "metadata": {
        "id": "w5oeaXgPaLam"
      }
    },
    {
      "cell_type": "markdown",
      "source": [
        "12. What is the basic structure of a PyTorch neural network?\n",
        "\n",
        "-> In PyTorch, the basic structure of a neural network involves creating a custom class that inherits from `torch.nn.Module`. Inside this class, the `__init__()` method is used to define the layers of the network, such as fully connected layers using `nn.Linear`. The forward pass, which describes how input data flows through the layers, is defined in the `forward()` method, using activation functions like ReLU or Sigmoid. After defining the model, you create an instance of it and then set up a loss function (e.g., binary cross-entropy using `nn.BCELoss`) and an optimizer (like `torch.optim.Adam`) to update the model's weights during training. The training loop typically involves feeding inputs through the model, computing the loss, zeroing the gradients, performing backpropagation with `loss.backward()`, and updating the model's parameters with `optimizer.step()`. This structure makes PyTorch flexible and intuitive, especially for researchers and developers working on custom deep learning models.\n"
      ],
      "metadata": {
        "id": "q_wL-eYyawTg"
      }
    },
    {
      "cell_type": "markdown",
      "source": [
        "13. What is the significance of tensors in PyTorch?\n",
        "\n",
        "-> Tensors are the core data structure in PyTorch, similar to NumPy arrays but with powerful added capabilities. They are used to represent all forms of data in deep learning models — from inputs and outputs to weights, gradients, and everything in between."
      ],
      "metadata": {
        "id": "HBY-RbqydfM6"
      }
    },
    {
      "cell_type": "markdown",
      "source": [
        "14. What is the difference between torch.Tensor and torch.cuda.Tensor in PyTorch?\n",
        "\n",
        "-> ###  Difference Between `torch.Tensor` and `torch.cuda.Tensor` in PyTorch\n",
        "\n",
        "Both `torch.Tensor` and `torch.cuda.Tensor` represent **multi-dimensional arrays** (tensors) in PyTorch, but they differ mainly in **where the data is stored and processed**.\n",
        "\n",
        "---\n",
        "\n",
        "### ✅ Key Differences\n",
        "\n",
        "| Feature             | `torch.Tensor`                      | `torch.cuda.Tensor`                         |\n",
        "| ------------------- | ----------------------------------- | ------------------------------------------- |\n",
        "| **Location**        | Stored and processed on the **CPU** | Stored and processed on the **GPU (CUDA)**  |\n",
        "| **Speed**           | Slower for large operations         | Much faster for deep learning operations    |\n",
        "| **Device Context**  | Default device (`cpu`)              | Explicit device (`cuda`)                    |\n",
        "| **Creation Syntax** | `torch.tensor([...])`               | `torch.tensor([...], device='cuda')`        |\n",
        "| **Use Case**        | Simple or CPU-only environments     | Training large models with GPU acceleration |\n",
        "\n"
      ],
      "metadata": {
        "id": "7E-hV6n6dr5Q"
      }
    },
    {
      "cell_type": "markdown",
      "source": [
        "15. What is the purpose of the torch.optim module in PyTorch?\n",
        "\n",
        "-> The torch.optim module in PyTorch provides a suite of optimization algorithms used to update the parameters (weights) of neural networks during training. It plays a critical role in how models learn from data.\n",
        "\n"
      ],
      "metadata": {
        "id": "_4YOEM9Rd723"
      }
    },
    {
      "cell_type": "markdown",
      "source": [
        "16. What are some common activation functions used in neural networks?"
      ],
      "metadata": {
        "id": "G-BtizW-ePmK"
      }
    },
    {
      "cell_type": "markdown",
      "source": [
        "In neural networks, activation functions play a crucial role by introducing non-linearity, which allows the model to learn complex patterns and relationships in the data. One of the most widely used activation functions is **ReLU (Rectified Linear Unit)**, which outputs the input directly if it is positive, otherwise returns zero. ReLU is popular for its simplicity and effectiveness in deep networks, although it can lead to the \"dying ReLU\" problem where some neurons become inactive. Another common function is the **Sigmoid**, which maps input values into a range between 0 and 1, making it suitable for binary classification tasks. However, it can suffer from vanishing gradients during training. The **Tanh** function is similar to Sigmoid but outputs values between -1 and 1 and is zero-centered, which often helps optimization, though it also faces gradient issues in deeper networks.\n",
        "\n",
        "**Leaky ReLU** is a modified version of ReLU that allows a small, non-zero gradient when the input is negative, addressing the dying ReLU issue. For multi-class classification problems, the **Softmax** function is typically used in the output layer, converting raw scores into probabilities that sum to one. Lastly, newer functions like **Swish**, developed by Google, have shown better performance in some deep models by combining properties of ReLU and Sigmoid. Overall, the choice of activation function significantly impacts model performance and convergence behavior.\n"
      ],
      "metadata": {
        "id": "RtQ44nw3eiDx"
      }
    },
    {
      "cell_type": "markdown",
      "source": [
        "17. What is the difference between torch.nn.Module and torch.nn.Sequential in PyTorch?\n",
        "\n",
        "-> In PyTorch, both `torch.nn.Module` and `torch.nn.Sequential` are used to define neural network models, but they serve different purposes based on the complexity of the architecture. `torch.nn.Module` is the base class for all neural network models in PyTorch and offers maximum flexibility. It is ideal when you need to build complex models with custom forward passes, conditional logic, loops, or multiple branches. You define the model's layers in the `__init__` method and explicitly implement how data flows through those layers in the `forward()` method. This makes `nn.Module` suitable for advanced tasks like recurrent networks, attention mechanisms, or models with skip connections.\n",
        "\n",
        "On the other hand, `torch.nn.Sequential` is a high-level utility that simplifies model creation when the architecture is a simple, straight stack of layers. It automatically handles the forward pass by applying each layer in order, so you don’t have to write a separate `forward()` method. This makes it a quick and clean choice for building basic feedforward networks or prototypes. However, it lacks the flexibility needed for non-linear or more sophisticated models. In summary, use `nn.Sequential` for simple linear pipelines, and opt for `nn.Module` when you need full control over the model's behavior.\n"
      ],
      "metadata": {
        "id": "mqf4XifgejT_"
      }
    },
    {
      "cell_type": "markdown",
      "source": [
        "18. How can you monitor training progress in TensorFlow 2.0?\n",
        "\n",
        "-> Monitoring training progress is essential for understanding how well your model is learning and for diagnosing issues like overfitting or underfitting. TensorFlow 2.0 provides several built-in tools to help with this, most notably TensorBoard and training callbacks.\n",
        "\n"
      ],
      "metadata": {
        "id": "ZTXiQ3kie_zV"
      }
    },
    {
      "cell_type": "markdown",
      "source": [
        "19. How does the Keras API fit into TensorFlow 2.0?\n",
        "\n",
        "-> In **TensorFlow 2.0**, the **Keras API** is fully integrated as the **official high-level API**, making it the primary way to build and train models. This integration brings a user-friendly, Pythonic interface that simplifies the development of deep learning models while still offering the full power and flexibility of TensorFlow underneath.\n",
        "\n",
        "Keras in TensorFlow 2.0 is available via `tf.keras`, and it allows you to easily define neural networks using either the **Sequential API** for simple layer-by-layer models or the **Functional and subclassing APIs** for more complex architectures. With `tf.keras`, you can compile models, define loss functions and optimizers, train using `model.fit()`, evaluate with `model.evaluate()`, and make predictions using `model.predict()`. It also supports callbacks, model saving/loading, and TensorBoard integration.\n",
        "\n",
        "The key advantage of this integration is that it combines the simplicity of Keras with TensorFlow's robust features like eager execution, distribution strategies, and deployment tools. In short, `tf.keras` in TensorFlow 2.0 makes it easier and more intuitive to build production-grade deep learning models with less boilerplate code.\n"
      ],
      "metadata": {
        "id": "WBWWb8hmfMfS"
      }
    },
    {
      "cell_type": "markdown",
      "source": [
        "20. What is an example of a deep learning project that can be implemented using TensorFlow 2.0?\n",
        "\n",
        "-> A classic example of a deep learning project that can be implemented using TensorFlow 2.0 is building an image classification model using a Convolutional Neural Network (CNN) on the CIFAR-10 dataset. This dataset consists of 60,000 color images (32x32 pixels) categorized into 10 classes, such as airplanes, cats, trucks, and ships. Using TensorFlow’s integrated Keras API, you can easily load and preprocess the dataset, normalize pixel values, and construct a CNN model using layers like `Conv2D`, `MaxPooling2D`, `Flatten`, and `Dense`. The model is compiled with an optimizer such as Adam, a suitable loss function like sparse categorical cross-entropy, and accuracy as the evaluation metric. After training the model over several epochs using the `model.fit()` function, its performance can be evaluated on a test set using `model.evaluate()`. This project not only demonstrates the power and simplicity of TensorFlow 2.0 for building and training deep learning models but also provides a strong foundation for extending the model further with techniques like data augmentation, transfer learning, or deployment using TensorFlow Lite.\n"
      ],
      "metadata": {
        "id": "yOu18wLpfaiZ"
      }
    },
    {
      "cell_type": "markdown",
      "source": [
        "21. What is the main advantage of using pre-trained models in TensorFlow and PyTorch?\n",
        "\n",
        "-> The main advantage of using **pre-trained models** in TensorFlow and PyTorch is that they **save time and computational resources** by allowing you to leverage models that have already been trained on large datasets, such as ImageNet. These models have learned rich feature representations that can be reused for similar tasks, enabling **transfer learning**. Instead of training a model from scratch, which requires massive data and compute power, you can **fine-tune** or adapt a pre-trained model to your specific task (like image classification, object detection, or text analysis) using a smaller dataset. This not only accelerates development but also improves performance, especially when labeled data is limited. Pre-trained models are ideal for quickly building accurate models and prototyping in real-world applications.\n"
      ],
      "metadata": {
        "id": "ISFF8FrTf18U"
      }
    },
    {
      "cell_type": "markdown",
      "source": [
        "**Practical**"
      ],
      "metadata": {
        "id": "lyu0EJ3dgAG6"
      }
    },
    {
      "cell_type": "markdown",
      "source": [
        "1. How do you install and verify that TensorFlow 2.0 was installed successfully?"
      ],
      "metadata": {
        "id": "pTiPlRM8gEvC"
      }
    },
    {
      "cell_type": "code",
      "source": [
        "pip install tensorflow==2.0.0\n"
      ],
      "metadata": {
        "colab": {
          "base_uri": "https://localhost:8080/"
        },
        "id": "lX2LMECRi0cp",
        "outputId": "f444eb49-9fed-4ee4-f984-6ba9699c20d6"
      },
      "execution_count": 14,
      "outputs": [
        {
          "output_type": "stream",
          "name": "stdout",
          "text": [
            "\u001b[31mERROR: Could not find a version that satisfies the requirement tensorflow==2.0.0 (from versions: 2.12.0rc0, 2.12.0rc1, 2.12.0, 2.12.1, 2.13.0rc0, 2.13.0rc1, 2.13.0rc2, 2.13.0, 2.13.1, 2.14.0rc0, 2.14.0rc1, 2.14.0, 2.14.1, 2.15.0rc0, 2.15.0rc1, 2.15.0, 2.15.0.post1, 2.15.1, 2.16.0rc0, 2.16.1, 2.16.2, 2.17.0rc0, 2.17.0rc1, 2.17.0, 2.17.1, 2.18.0rc0, 2.18.0rc1, 2.18.0rc2, 2.18.0, 2.18.1, 2.19.0rc0, 2.19.0)\u001b[0m\u001b[31m\n",
            "\u001b[0m\u001b[31mERROR: No matching distribution found for tensorflow==2.0.0\u001b[0m\u001b[31m\n",
            "\u001b[0m"
          ]
        }
      ]
    },
    {
      "cell_type": "code",
      "source": [
        "import tensorflow as tf\n",
        "print(tf.__version__)\n"
      ],
      "metadata": {
        "colab": {
          "base_uri": "https://localhost:8080/"
        },
        "id": "1eJVi37ci1Mp",
        "outputId": "3093edb9-8e4c-4e3f-a36f-b89e7347a806"
      },
      "execution_count": 15,
      "outputs": [
        {
          "output_type": "stream",
          "name": "stdout",
          "text": [
            "2.18.0\n"
          ]
        }
      ]
    },
    {
      "cell_type": "markdown",
      "source": [
        "2. How can you define a simple function in TensorFlow 2.0 to perform addition?"
      ],
      "metadata": {
        "id": "m9fZM7nDjCMk"
      }
    },
    {
      "cell_type": "code",
      "source": [
        "import tensorflow as tf\n",
        "\n",
        "@tf.function\n",
        "def add_tensors(x, y):\n",
        "    return tf.add(x, y)\n",
        "\n"
      ],
      "metadata": {
        "id": "GHYkLH1ni6rR"
      },
      "execution_count": 16,
      "outputs": []
    },
    {
      "cell_type": "code",
      "source": [
        "a = tf.constant(5)\n",
        "b = tf.constant(3)\n",
        "\n",
        "result = add_tensors(a, b)\n",
        "print(\"Result:\", result.numpy())  # Output: 8\n"
      ],
      "metadata": {
        "colab": {
          "base_uri": "https://localhost:8080/"
        },
        "id": "CP4pI79qjO6Q",
        "outputId": "be653977-70d6-45ee-ba7b-017b4e19ef10"
      },
      "execution_count": 17,
      "outputs": [
        {
          "output_type": "stream",
          "name": "stdout",
          "text": [
            "Result: 8\n"
          ]
        }
      ]
    },
    {
      "cell_type": "markdown",
      "source": [
        " 3. How can you create a simple neural network in TensorFlow 2.0 with one hidden layer?"
      ],
      "metadata": {
        "id": "ERoIWX8TjSKJ"
      }
    },
    {
      "cell_type": "code",
      "source": [
        "# Create a Sequential model\n",
        "model = Sequential([\n",
        "    Dense(16, activation='relu', input_shape=(784,)),  # Hidden layer with 16 units, updated input shape\n",
        "    Dense(1, activation='sigmoid')                    # Output layer (binary classification)\n",
        "])"
      ],
      "metadata": {
        "colab": {
          "base_uri": "https://localhost:8080/"
        },
        "id": "t9Ed9m7vjcwb",
        "outputId": "5cf07008-3134-4bb5-8dbf-302665995576"
      },
      "execution_count": 29,
      "outputs": [
        {
          "output_type": "stream",
          "name": "stderr",
          "text": [
            "/usr/local/lib/python3.11/dist-packages/keras/src/layers/core/dense.py:87: UserWarning: Do not pass an `input_shape`/`input_dim` argument to a layer. When using Sequential models, prefer using an `Input(shape)` object as the first layer in the model instead.\n",
            "  super().__init__(activity_regularizer=activity_regularizer, **kwargs)\n"
          ]
        }
      ]
    },
    {
      "cell_type": "code",
      "source": [
        "model.compile(optimizer='adam',\n",
        "              loss='binary_crossentropy',\n",
        "              metrics=['accuracy'])\n"
      ],
      "metadata": {
        "id": "cznaimX9jeOo"
      },
      "execution_count": 20,
      "outputs": []
    },
    {
      "cell_type": "markdown",
      "source": [
        "4. How can you visualize the training progress using TensorFlow and Matplotlib?"
      ],
      "metadata": {
        "id": "D4ATt_RLjn5F"
      }
    },
    {
      "cell_type": "code",
      "source": [
        "import tensorflow as tf\n",
        "import matplotlib.pyplot as plt\n"
      ],
      "metadata": {
        "id": "pZ0uXIOSmHua"
      },
      "execution_count": 39,
      "outputs": []
    },
    {
      "cell_type": "code",
      "source": [
        "(x_train, y_train), (x_test, y_test) = tf.keras.datasets.mnist.load_data()\n",
        "\n",
        "# Normalize pixel values\n",
        "x_train, x_test = x_train / 255.0, x_test / 255.0\n"
      ],
      "metadata": {
        "id": "wmiE_5KKmIpB"
      },
      "execution_count": 40,
      "outputs": []
    },
    {
      "cell_type": "code",
      "source": [
        "model = tf.keras.Sequential([\n",
        "    tf.keras.layers.Flatten(input_shape=(28, 28)),\n",
        "    tf.keras.layers.Dense(128, activation='relu'),\n",
        "    tf.keras.layers.Dense(10, activation='softmax')\n",
        "])\n",
        "\n",
        "model.compile(optimizer='adam',\n",
        "              loss='sparse_categorical_crossentropy',\n",
        "              metrics=['accuracy'])\n"
      ],
      "metadata": {
        "colab": {
          "base_uri": "https://localhost:8080/"
        },
        "id": "rku3vwc5mKWN",
        "outputId": "43fb4fc5-8084-497c-d35e-733a019cfa71"
      },
      "execution_count": 41,
      "outputs": [
        {
          "output_type": "stream",
          "name": "stderr",
          "text": [
            "/usr/local/lib/python3.11/dist-packages/keras/src/layers/reshaping/flatten.py:37: UserWarning: Do not pass an `input_shape`/`input_dim` argument to a layer. When using Sequential models, prefer using an `Input(shape)` object as the first layer in the model instead.\n",
            "  super().__init__(**kwargs)\n"
          ]
        }
      ]
    },
    {
      "cell_type": "code",
      "source": [
        "history = model.fit(\n",
        "    x_train, y_train,\n",
        "    validation_split=0.2,\n",
        "    epochs=5,\n",
        "    batch_size=32\n",
        ")\n"
      ],
      "metadata": {
        "colab": {
          "base_uri": "https://localhost:8080/"
        },
        "id": "h-8yhwWhmNVN",
        "outputId": "aba22d4b-871b-4ee5-b426-64ebebc02312"
      },
      "execution_count": 42,
      "outputs": [
        {
          "output_type": "stream",
          "name": "stdout",
          "text": [
            "Epoch 1/5\n",
            "\u001b[1m1500/1500\u001b[0m \u001b[32m━━━━━━━━━━━━━━━━━━━━\u001b[0m\u001b[37m\u001b[0m \u001b[1m7s\u001b[0m 4ms/step - accuracy: 0.8695 - loss: 0.4669 - val_accuracy: 0.9557 - val_loss: 0.1539\n",
            "Epoch 2/5\n",
            "\u001b[1m1500/1500\u001b[0m \u001b[32m━━━━━━━━━━━━━━━━━━━━\u001b[0m\u001b[37m\u001b[0m \u001b[1m11s\u001b[0m 4ms/step - accuracy: 0.9624 - loss: 0.1300 - val_accuracy: 0.9663 - val_loss: 0.1151\n",
            "Epoch 3/5\n",
            "\u001b[1m1500/1500\u001b[0m \u001b[32m━━━━━━━━━━━━━━━━━━━━\u001b[0m\u001b[37m\u001b[0m \u001b[1m9s\u001b[0m 4ms/step - accuracy: 0.9745 - loss: 0.0862 - val_accuracy: 0.9683 - val_loss: 0.1022\n",
            "Epoch 4/5\n",
            "\u001b[1m1500/1500\u001b[0m \u001b[32m━━━━━━━━━━━━━━━━━━━━\u001b[0m\u001b[37m\u001b[0m \u001b[1m12s\u001b[0m 5ms/step - accuracy: 0.9814 - loss: 0.0641 - val_accuracy: 0.9728 - val_loss: 0.0908\n",
            "Epoch 5/5\n",
            "\u001b[1m1500/1500\u001b[0m \u001b[32m━━━━━━━━━━━━━━━━━━━━\u001b[0m\u001b[37m\u001b[0m \u001b[1m7s\u001b[0m 5ms/step - accuracy: 0.9855 - loss: 0.0486 - val_accuracy: 0.9719 - val_loss: 0.0924\n"
          ]
        }
      ]
    },
    {
      "cell_type": "code",
      "source": [
        "# Accuracy plot\n",
        "plt.plot(history.history['accuracy'], label='Train Accuracy')\n",
        "plt.plot(history.history['val_accuracy'], label='Validation Accuracy')\n",
        "plt.title('Model Accuracy')\n",
        "plt.xlabel('Epoch')\n",
        "plt.ylabel('Accuracy')\n",
        "plt.legend()\n",
        "plt.grid(True)\n",
        "plt.show()\n",
        "\n",
        "# Loss plot\n",
        "plt.plot(history.history['loss'], label='Train Loss')\n",
        "plt.plot(history.history['val_loss'], label='Validation Loss')\n",
        "plt.title('Model Loss')\n",
        "plt.xlabel('Epoch')\n",
        "plt.ylabel('Loss')\n",
        "plt.legend()\n",
        "plt.grid(True)\n",
        "plt.show()\n"
      ],
      "metadata": {
        "colab": {
          "base_uri": "https://localhost:8080/",
          "height": 927
        },
        "id": "JufnS7m1mQtt",
        "outputId": "7d008d48-026d-4310-8dfc-1e6c028edb71"
      },
      "execution_count": 43,
      "outputs": [
        {
          "output_type": "display_data",
          "data": {
            "text/plain": [
              "<Figure size 640x480 with 1 Axes>"
            ],
            "image/png": "[encoded data removed]"
          },
          "metadata": {}
        },
        {
          "output_type": "display_data",
          "data": {
            "text/plain": [
              "<Figure size 640x480 with 1 Axes>"
            ],
            "image/png": "[encoded data removed]"
          },
          "metadata": {}
        }
      ]
    },
    {
      "cell_type": "markdown",
      "source": [
        "5. How do you install PyTorch and verify the PyTorch installation?"
      ],
      "metadata": {
        "id": "tmB8jbSZmVee"
      }
    },
    {
      "cell_type": "code",
      "source": [
        "import torch\n",
        "print(torch.__version__)\n",
        "print(\"CUDA Available:\", torch.cuda.is_available())\n"
      ],
      "metadata": {
        "colab": {
          "base_uri": "https://localhost:8080/"
        },
        "id": "uNJIt_9OmTzm",
        "outputId": "53c7a2d3-4549-4ac3-d646-9c6d8883daf1"
      },
      "execution_count": 44,
      "outputs": [
        {
          "output_type": "stream",
          "name": "stdout",
          "text": [
            "2.6.0+cu124\n",
            "CUDA Available: False\n"
          ]
        }
      ]
    },
    {
      "cell_type": "code",
      "source": [
        "import torch\n",
        "\n",
        "# Print version\n",
        "print(\"PyTorch version:\", torch.__version__)\n",
        "\n",
        "# Check for GPU\n",
        "if torch.cuda.is_available():\n",
        "    print(\"CUDA is available. GPU is ready to use.\")\n",
        "else:\n",
        "    print(\"CUDA not available. Running on CPU.\")\n"
      ],
      "metadata": {
        "colab": {
          "base_uri": "https://localhost:8080/"
        },
        "id": "t-TDp8BUmjbH",
        "outputId": "9952f48c-3571-4329-dc2e-f1f45c8e52a1"
      },
      "execution_count": 45,
      "outputs": [
        {
          "output_type": "stream",
          "name": "stdout",
          "text": [
            "PyTorch version: 2.6.0+cu124\n",
            "CUDA not available. Running on CPU.\n"
          ]
        }
      ]
    },
    {
      "cell_type": "markdown",
      "source": [
        "6. How do you create a simple neural network in PyTorch?"
      ],
      "metadata": {
        "id": "6Vdj4gMJmshv"
      }
    },
    {
      "cell_type": "code",
      "source": [
        "import torch\n",
        "import torch.nn as nn\n",
        "import torch.nn.functional as F\n"
      ],
      "metadata": {
        "id": "MDRlHoimmmAU"
      },
      "execution_count": 46,
      "outputs": []
    },
    {
      "cell_type": "code",
      "source": [
        "class SimpleNN(nn.Module):\n",
        "    def __init__(self):\n",
        "        super(SimpleNN, self).__init__()\n",
        "        self.fc1 = nn.Linear(10, 16)   # Input layer to hidden layer\n",
        "        self.fc2 = nn.Linear(16, 1)    # Hidden layer to output layer\n",
        "\n",
        "    def forward(self, x):\n",
        "        x = F.relu(self.fc1(x))       # Activation function\n",
        "        x = torch.sigmoid(self.fc2(x))  # Output for binary classification\n",
        "        return x\n"
      ],
      "metadata": {
        "id": "5WXav410m2Oe"
      },
      "execution_count": 47,
      "outputs": []
    },
    {
      "cell_type": "code",
      "source": [
        "model = SimpleNN()\n",
        "print(model)\n"
      ],
      "metadata": {
        "colab": {
          "base_uri": "https://localhost:8080/"
        },
        "id": "LqRUxez1m4FB",
        "outputId": "cc2ee5c6-6b75-4d7b-cba4-a43c0e4403d0"
      },
      "execution_count": 48,
      "outputs": [
        {
          "output_type": "stream",
          "name": "stdout",
          "text": [
            "SimpleNN(\n",
            "  (fc1): Linear(in_features=10, out_features=16, bias=True)\n",
            "  (fc2): Linear(in_features=16, out_features=1, bias=True)\n",
            ")\n"
          ]
        }
      ]
    },
    {
      "cell_type": "code",
      "source": [
        "criterion = nn.BCELoss()  # Binary Cross Entropy Loss\n",
        "optimizer = torch.optim.Adam(model.parameters(), lr=0.01)\n"
      ],
      "metadata": {
        "id": "mC1HL6pYm524"
      },
      "execution_count": 49,
      "outputs": []
    },
    {
      "cell_type": "code",
      "source": [
        "# Example dummy data\n",
        "x_train = torch.rand(100, 10)         # 100 samples, 10 features\n",
        "y_train = torch.randint(0, 2, (100, 1)).float()  # Binary targets\n",
        "\n",
        "# Training loop\n",
        "for epoch in range(10):\n",
        "    optimizer.zero_grad()\n",
        "    outputs = model(x_train)\n",
        "    loss = criterion(outputs, y_train)\n",
        "    loss.backward()\n",
        "    optimizer.step()\n",
        "    print(f\"Epoch {epoch+1}, Loss: {loss.item():.4f}\")\n"
      ],
      "metadata": {
        "colab": {
          "base_uri": "https://localhost:8080/"
        },
        "id": "MimbJk7im8wV",
        "outputId": "b54b11c5-5343-4e5e-9a36-6532ce524708"
      },
      "execution_count": 50,
      "outputs": [
        {
          "output_type": "stream",
          "name": "stdout",
          "text": [
            "Epoch 1, Loss: 0.6977\n",
            "Epoch 2, Loss: 0.6936\n",
            "Epoch 3, Loss: 0.6911\n",
            "Epoch 4, Loss: 0.6891\n",
            "Epoch 5, Loss: 0.6871\n",
            "Epoch 6, Loss: 0.6849\n",
            "Epoch 7, Loss: 0.6829\n",
            "Epoch 8, Loss: 0.6810\n",
            "Epoch 9, Loss: 0.6794\n",
            "Epoch 10, Loss: 0.6778\n"
          ]
        }
      ]
    },
    {
      "cell_type": "markdown",
      "source": [
        "7.  How do you define a loss function and optimizer in PyTorch?"
      ],
      "metadata": {
        "id": "HPEx_yJMnAsZ"
      }
    },
    {
      "cell_type": "code",
      "source": [
        "import torch.nn as nn\n",
        "\n",
        "loss_fn = nn.BCELoss()  # Binary Cross Entropy Loss\n"
      ],
      "metadata": {
        "id": "HujCSXuum_CO"
      },
      "execution_count": 51,
      "outputs": []
    },
    {
      "cell_type": "code",
      "source": [
        "loss_fn = nn.CrossEntropyLoss()  # Applies softmax internally\n"
      ],
      "metadata": {
        "id": "CHVH93kenRXk"
      },
      "execution_count": 52,
      "outputs": []
    },
    {
      "cell_type": "code",
      "source": [
        "loss_fn = nn.MSELoss()  # Mean Squared Error\n"
      ],
      "metadata": {
        "id": "AL1wdgOEnU2X"
      },
      "execution_count": 53,
      "outputs": []
    },
    {
      "cell_type": "code",
      "source": [
        "import torch.optim as optim\n",
        "\n",
        "optimizer = optim.Adam(model.parameters(), lr=0.001)\n"
      ],
      "metadata": {
        "id": "TtyOb35wnXJg"
      },
      "execution_count": 54,
      "outputs": []
    },
    {
      "cell_type": "code",
      "source": [
        "optimizer.zero_grad()        # Clear previous gradients\n",
        "outputs = model(x_train)     # Forward pass\n",
        "loss = loss_fn(outputs, y_train)  # Compute loss\n",
        "loss.backward()              # Backpropagation\n",
        "optimizer.step()             # Update weights\n"
      ],
      "metadata": {
        "id": "AGT6DfNFnb6J"
      },
      "execution_count": 56,
      "outputs": []
    },
    {
      "cell_type": "markdown",
      "source": [
        "8. How do you implement a custom loss function in PyTorch?"
      ],
      "metadata": {
        "id": "ZPMjPMyentI0"
      }
    },
    {
      "cell_type": "code",
      "source": [
        "import torch\n",
        "\n",
        "def custom_mse_loss(y_pred, y_true):\n",
        "    return torch.mean((y_pred - y_true) ** 2)\n"
      ],
      "metadata": {
        "id": "FbUco42LnrhP"
      },
      "execution_count": 57,
      "outputs": []
    },
    {
      "cell_type": "code",
      "source": [
        "import torch\n",
        "import torch.nn as nn\n",
        "\n",
        "class CustomMSELoss(nn.Module):\n",
        "    def __init__(self):\n",
        "        super(CustomMSELoss, self).__init__()\n",
        "\n",
        "    def forward(self, y_pred, y_true):\n",
        "        return torch.mean((y_pred - y_true) ** 2)\n"
      ],
      "metadata": {
        "id": "C4nCWQjUn5ul"
      },
      "execution_count": 58,
      "outputs": []
    },
    {
      "cell_type": "code",
      "source": [
        "class CombinedLoss(nn.Module):\n",
        "    def __init__(self, alpha=0.5):\n",
        "        super(CombinedLoss, self).__init__()\n",
        "        self.alpha = alpha\n",
        "\n",
        "    def forward(self, y_pred, y_true):\n",
        "        mse = torch.mean((y_pred - y_true) ** 2)\n",
        "        l1 = torch.mean(torch.abs(y_pred - y_true))\n",
        "        return self.alpha * mse + (1 - self.alpha) * l1\n"
      ],
      "metadata": {
        "id": "vqlvSlAmoAfw"
      },
      "execution_count": 60,
      "outputs": []
    },
    {
      "cell_type": "markdown",
      "source": [
        "9. How do you save and load a TensorFlow model?"
      ],
      "metadata": {
        "id": "638RGpSxqCEl"
      }
    },
    {
      "cell_type": "code",
      "source": [
        "import tensorflow as tf\n",
        "from tensorflow.keras import layers\n",
        "\n",
        "# Simple model\n",
        "model = tf.keras.Sequential([\n",
        "    layers.Dense(64, activation='relu', input_shape=(10,)),\n",
        "    layers.Dense(1, activation='sigmoid')\n",
        "])\n",
        "model.compile(optimizer='adam', loss='binary_crossentropy')\n",
        "\n",
        "# Dummy training data\n",
        "import numpy as np\n",
        "x_train = np.random.rand(100, 10)\n",
        "y_train = np.random.randint(0, 2, size=(100, 1))\n",
        "\n",
        "# Train model\n",
        "model.fit(x_train, y_train, epochs=5)\n"
      ],
      "metadata": {
        "colab": {
          "base_uri": "https://localhost:8080/"
        },
        "id": "GaIzHRLfqOWT",
        "outputId": "9bbfb997-5153-41b2-e20a-07ce6f45f2f0"
      },
      "execution_count": 62,
      "outputs": [
        {
          "output_type": "stream",
          "name": "stdout",
          "text": [
            "Epoch 1/5\n"
          ]
        },
        {
          "output_type": "stream",
          "name": "stderr",
          "text": [
            "/usr/local/lib/python3.11/dist-packages/keras/src/layers/core/dense.py:87: UserWarning: Do not pass an `input_shape`/`input_dim` argument to a layer. When using Sequential models, prefer using an `Input(shape)` object as the first layer in the model instead.\n",
            "  super().__init__(activity_regularizer=activity_regularizer, **kwargs)\n"
          ]
        },
        {
          "output_type": "stream",
          "name": "stdout",
          "text": [
            "\u001b[1m4/4\u001b[0m \u001b[32m━━━━━━━━━━━━━━━━━━━━\u001b[0m\u001b[37m\u001b[0m \u001b[1m1s\u001b[0m 9ms/step - loss: 0.7091\n",
            "Epoch 2/5\n",
            "\u001b[1m4/4\u001b[0m \u001b[32m━━━━━━━━━━━━━━━━━━━━\u001b[0m\u001b[37m\u001b[0m \u001b[1m0s\u001b[0m 10ms/step - loss: 0.7012\n",
            "Epoch 3/5\n",
            "\u001b[1m4/4\u001b[0m \u001b[32m━━━━━━━━━━━━━━━━━━━━\u001b[0m\u001b[37m\u001b[0m \u001b[1m0s\u001b[0m 9ms/step - loss: 0.6936 \n",
            "Epoch 4/5\n",
            "\u001b[1m4/4\u001b[0m \u001b[32m━━━━━━━━━━━━━━━━━━━━\u001b[0m\u001b[37m\u001b[0m \u001b[1m0s\u001b[0m 9ms/step - loss: 0.6971 \n",
            "Epoch 5/5\n",
            "\u001b[1m4/4\u001b[0m \u001b[32m━━━━━━━━━━━━━━━━━━━━\u001b[0m\u001b[37m\u001b[0m \u001b[1m0s\u001b[0m 10ms/step - loss: 0.6885\n"
          ]
        },
        {
          "output_type": "execute_result",
          "data": {
            "text/plain": [
              "<keras.src.callbacks.history.History at 0x79b9f73d4490>"
            ]
          },
          "metadata": {},
          "execution_count": 62
        }
      ]
    },
    {
      "cell_type": "code",
      "source": [
        "model.save('my_model.h5')  # Saves as a single .h5 file\n"
      ],
      "metadata": {
        "colab": {
          "base_uri": "https://localhost:8080/"
        },
        "id": "sMUwRurgqZA6",
        "outputId": "99d8508b-2c34-4584-acc2-f63b292af21f"
      },
      "execution_count": 64,
      "outputs": [
        {
          "output_type": "stream",
          "name": "stderr",
          "text": [
            "WARNING:absl:You are saving your model as an HDF5 file via `model.save()` or `keras.saving.save_model(model)`. This file format is considered legacy. We recommend using instead the native Keras format, e.g. `model.save('my_model.keras')` or `keras.saving.save_model(model, 'my_model.keras')`. \n"
          ]
        }
      ]
    },
    {
      "cell_type": "code",
      "source": [
        "# Load HDF5\n",
        "loaded_model = tf.keras.models.load_model('my_model.h5')\n",
        "\n",
        "# Predict or Evaluate\n",
        "loaded_model.predict(x_train[:5])"
      ],
      "metadata": {
        "colab": {
          "base_uri": "https://localhost:8080/"
        },
        "id": "Se27tKNqqcWh",
        "outputId": "c8a5b2aa-96a3-4619-c5f2-e0a38264521e"
      },
      "execution_count": 66,
      "outputs": [
        {
          "output_type": "stream",
          "name": "stderr",
          "text": [
            "WARNING:absl:Compiled the loaded model, but the compiled metrics have yet to be built. `model.compile_metrics` will be empty until you train or evaluate the model.\n"
          ]
        },
        {
          "output_type": "stream",
          "name": "stdout",
          "text": [
            "\u001b[1m1/1\u001b[0m \u001b[32m━━━━━━━━━━━━━━━━━━━━\u001b[0m\u001b[37m\u001b[0m \u001b[1m0s\u001b[0m 63ms/step\n"
          ]
        },
        {
          "output_type": "execute_result",
          "data": {
            "text/plain": [
              "array([[0.5293298 ],\n",
              "       [0.51776767],\n",
              "       [0.614797  ],\n",
              "       [0.56203884],\n",
              "       [0.52080745]], dtype=float32)"
            ]
          },
          "metadata": {},
          "execution_count": 66
        }
      ]
    },
    {
      "cell_type": "code",
      "source": [
        "from google.colab import files\n",
        "files.download('my_model.h5')\n"
      ],
      "metadata": {
        "colab": {
          "base_uri": "https://localhost:8080/",
          "height": 17
        },
        "id": "SSJup1BiqglX",
        "outputId": "a1f5402d-777c-441c-81da-ee9b4696ebc1"
      },
      "execution_count": 67,
      "outputs": [
        {
          "output_type": "display_data",
          "data": {
            "text/plain": [
              "<IPython.core.display.Javascript object>"
            ],
            "application/javascript": [
              "\n",
              "    async function download(id, filename, size) {\n",
              "      if (!google.colab.kernel.accessAllowed) {\n",
              "        return;\n",
              "      }\n",
              "      const div = document.createElement('div');\n",
              "      const label = document.createElement('label');\n",
              "      label.textContent = `Downloading \"${filename}\": `;\n",
              "      div.appendChild(label);\n",
              "      const progress = document.createElement('progress');\n",
              "      progress.max = size;\n",
              "      div.appendChild(progress);\n",
              "      document.body.appendChild(div);\n",
              "\n",
              "      const buffers = [];\n",
              "      let downloaded = 0;\n",
              "\n",
              "      const channel = await google.colab.kernel.comms.open(id);\n",
              "      // Send a message to notify the kernel that we're ready.\n",
              "      channel.send({})\n",
              "\n",
              "      for await (const message of channel.messages) {\n",
              "        // Send a message to notify the kernel that we're ready.\n",
              "        channel.send({})\n",
              "        if (message.buffers) {\n",
              "          for (const buffer of message.buffers) {\n",
              "            buffers.push(buffer);\n",
              "            downloaded += buffer.byteLength;\n",
              "            progress.value = downloaded;\n",
              "          }\n",
              "        }\n",
              "      }\n",
              "      const blob = new Blob(buffers, {type: 'application/binary'});\n",
              "      const a = document.createElement('a');\n",
              "      a.href = window.URL.createObjectURL(blob);\n",
              "      a.download = filename;\n",
              "      div.appendChild(a);\n",
              "      a.click();\n",
              "      div.remove();\n",
              "    }\n",
              "  "
            ]
          },
          "metadata": {}
        },
        {
          "output_type": "display_data",
          "data": {
            "text/plain": [
              "<IPython.core.display.Javascript object>"
            ],
            "application/javascript": [
              "download(\"download_558c261c-96f9-4729-ba61-70027b3af511\", \"my_model.h5\", 31664)"
            ]
          },
          "metadata": {}
        }
      ]
    }
  ]
}